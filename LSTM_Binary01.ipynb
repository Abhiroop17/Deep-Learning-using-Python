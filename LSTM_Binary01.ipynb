{
  "nbformat": 4,
  "nbformat_minor": 0,
  "metadata": {
    "colab": {
      "provenance": [],
      "gpuType": "T4",
      "authorship_tag": "ABX9TyNUG5FlGyepBIroYcvD8HLR",
      "include_colab_link": true
    },
    "kernelspec": {
      "name": "python3",
      "display_name": "Python 3"
    },
    "language_info": {
      "name": "python"
    },
    "accelerator": "GPU"
  },
  "cells": [
    {
      "cell_type": "markdown",
      "metadata": {
        "id": "view-in-github",
        "colab_type": "text"
      },
      "source": [
        "<a href=\"https://colab.research.google.com/github/Abhiroop17/Deep-Learning-using-Python/blob/main/LSTM_Binary01.ipynb\" target=\"_parent\"><img src=\"https://colab.research.google.com/assets/colab-badge.svg\" alt=\"Open In Colab\"/></a>"
      ]
    },
    {
      "cell_type": "code",
      "execution_count": null,
      "metadata": {
        "id": "EFFT4OXKMx-V"
      },
      "outputs": [],
      "source": [
        "import pandas as pd\n",
        "import numpy as np\n",
        "from sklearn.model_selection import train_test_split\n",
        "from sklearn.preprocessing import LabelEncoder\n",
        "from keras.preprocessing.text import Tokenizer\n",
        "from keras.preprocessing.sequence import pad_sequences\n",
        "from keras.models import Sequential\n",
        "from keras.layers import Embedding, LSTM, Dense\n"
      ]
    },
    {
      "cell_type": "code",
      "source": [
        "df = pd.read_csv('/content/Emtrans515.csv', encoding='ISO-8859-1')\n"
      ],
      "metadata": {
        "id": "yN8oRx_KOf4H"
      },
      "execution_count": null,
      "outputs": []
    },
    {
      "cell_type": "code",
      "source": [
        "pip install chardet\n"
      ],
      "metadata": {
        "colab": {
          "base_uri": "https://localhost:8080/"
        },
        "id": "sQpKxAh6OvuW",
        "outputId": "6525161d-306d-47a2-9c5a-b5e26491cbb7"
      },
      "execution_count": null,
      "outputs": [
        {
          "output_type": "stream",
          "name": "stdout",
          "text": [
            "Requirement already satisfied: chardet in /usr/local/lib/python3.10/dist-packages (5.2.0)\n"
          ]
        }
      ]
    },
    {
      "cell_type": "code",
      "source": [
        "import chardet\n",
        "\n",
        "with open('/content/Emtrans515.csv', 'rb') as f:\n",
        "    result = chardet.detect(f.read())\n",
        "\n",
        "df = pd.read_csv('/content/Emtrans515.csv', encoding=result['encoding'])\n"
      ],
      "metadata": {
        "id": "-Q81YyISOz5w"
      },
      "execution_count": null,
      "outputs": []
    },
    {
      "cell_type": "code",
      "source": [
        "label_encoder = LabelEncoder()\n",
        "df['Sadness'] = label_encoder.fit_transform(df['Sadness'])\n",
        "\n",
        "# Split the data into training and testing sets\n",
        "train_data, test_data, train_labels, test_labels = train_test_split(\n",
        "    df['Comments'], df['Sadness'], test_size=0.2, random_state=42\n",
        ")\n",
        "\n",
        "# Tokenize the text data\n",
        "max_words = 10000\n",
        "tokenizer = Tokenizer(num_words=max_words)\n",
        "tokenizer.fit_on_texts(train_data)\n",
        "\n",
        "# Convert text data to sequences\n",
        "train_sequences = tokenizer.texts_to_sequences(train_data)\n",
        "test_sequences = tokenizer.texts_to_sequences(test_data)\n",
        "\n",
        "# Pad sequences to ensure equal length\n",
        "max_len = 100\n",
        "train_data_pad = pad_sequences(train_sequences, maxlen=max_len)\n",
        "test_data_pad = pad_sequences(test_sequences, maxlen=max_len)"
      ],
      "metadata": {
        "id": "MSYm0Ag0M7mI"
      },
      "execution_count": null,
      "outputs": []
    },
    {
      "cell_type": "code",
      "source": [
        "embedding_dim = 100\n",
        "\n",
        "model = Sequential()\n",
        "model.add(Embedding(input_dim=max_words, output_dim=embedding_dim, input_length=max_len))\n",
        "model.add(LSTM(100))\n",
        "model.add(Dense(1, activation='sigmoid'))\n",
        "\n",
        "model.compile(loss='binary_crossentropy', optimizer='adam', metrics=['accuracy'])\n"
      ],
      "metadata": {
        "id": "yf62OSU-Pl6B"
      },
      "execution_count": null,
      "outputs": []
    },
    {
      "cell_type": "code",
      "source": [
        "model.fit(train_data_pad, train_labels, epochs=5, batch_size=32, validation_split=0.2)\n"
      ],
      "metadata": {
        "colab": {
          "base_uri": "https://localhost:8080/"
        },
        "id": "7-yZN0n5PsVo",
        "outputId": "e48a4f99-200f-482d-e024-10c8c23ec261"
      },
      "execution_count": null,
      "outputs": [
        {
          "output_type": "stream",
          "name": "stdout",
          "text": [
            "Epoch 1/5\n",
            "11/11 [==============================] - 10s 253ms/step - loss: -0.4736 - accuracy: 0.0821 - val_loss: -6.7122 - val_accuracy: 0.0964\n",
            "Epoch 2/5\n",
            "11/11 [==============================] - 3s 249ms/step - loss: -10.3500 - accuracy: 0.0881 - val_loss: -14.4669 - val_accuracy: 0.0964\n",
            "Epoch 3/5\n",
            "11/11 [==============================] - 2s 160ms/step - loss: -17.4170 - accuracy: 0.0881 - val_loss: -21.2946 - val_accuracy: 0.0964\n",
            "Epoch 4/5\n",
            "11/11 [==============================] - 1s 79ms/step - loss: -23.6831 - accuracy: 0.0881 - val_loss: -26.4876 - val_accuracy: 0.0964\n",
            "Epoch 5/5\n",
            "11/11 [==============================] - 1s 111ms/step - loss: -28.2137 - accuracy: 0.0881 - val_loss: -30.2698 - val_accuracy: 0.0964\n"
          ]
        },
        {
          "output_type": "execute_result",
          "data": {
            "text/plain": [
              "<keras.src.callbacks.History at 0x7b7f4f231540>"
            ]
          },
          "metadata": {},
          "execution_count": 24
        }
      ]
    },
    {
      "cell_type": "code",
      "source": [
        "loss, accuracy = model.evaluate(test_data_pad, test_labels)\n",
        "print(f'Accuracy: {accuracy*100:.2f}%')\n"
      ],
      "metadata": {
        "colab": {
          "base_uri": "https://localhost:8080/"
        },
        "id": "BWApZ6wOP0nn",
        "outputId": "4d1e74fa-b80c-4f94-a477-e4e09274774e"
      },
      "execution_count": null,
      "outputs": [
        {
          "output_type": "stream",
          "name": "stdout",
          "text": [
            "4/4 [==============================] - 0s 12ms/step - loss: -28.7121 - accuracy: 0.0680\n",
            "Accuracy: 6.80%\n"
          ]
        }
      ]
    },
    {
      "cell_type": "code",
      "source": [
        "new_texts = [\"i was soo sad yesterday\"]\n",
        "new_sequences = tokenizer.texts_to_sequences(new_texts)\n",
        "new_data_pad = pad_sequences(new_sequences, maxlen=max_len)\n",
        "\n",
        "predictions = model.predict(new_data_pad)\n",
        "predicted_labels = (predictions > 0.5).astype(int)\n",
        "\n",
        "# Decode predicted labels\n",
        "predicted_Sadness = label_encoder.inverse_transform(predicted_labels.flatten())\n",
        "print(predicted_Sadness)\n"
      ],
      "metadata": {
        "colab": {
          "base_uri": "https://localhost:8080/"
        },
        "id": "MXAtW9KOP6iY",
        "outputId": "2292e953-9dc5-4a5c-cbbd-e40b82d1b3ed"
      },
      "execution_count": null,
      "outputs": [
        {
          "output_type": "stream",
          "name": "stdout",
          "text": [
            "1/1 [==============================] - 0s 18ms/step\n",
            "[-4]\n"
          ]
        }
      ]
    }
  ]
}